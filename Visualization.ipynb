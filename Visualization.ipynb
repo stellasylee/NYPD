{
 "cells": [
  {
   "cell_type": "code",
   "execution_count": 1,
   "metadata": {},
   "outputs": [],
   "source": [
    "import pandas as pd\n",
    "import numpy as np\n",
    "from pandas.api.types import CategoricalDtype\n",
    "from plotnine import *\n",
    "from plotnine.data import mpg\n",
    "%matplotlib inline\n",
    "import matplotlib.pyplot as plt\n",
    "import statsmodels.api as sm\n",
    "from sklearn.model_selection import train_test_split\n",
    "from sklearn.linear_model import LogisticRegression\n",
    "from sklearn import metrics\n",
    "import seaborn as sn"
   ]
  },
  {
   "cell_type": "code",
   "execution_count": 2,
   "metadata": {},
   "outputs": [
    {
     "name": "stderr",
     "output_type": "stream",
     "text": [
      "/home/stellasylee/anaconda3/lib/python3.7/site-packages/IPython/core/interactiveshell.py:3049: DtypeWarning: Columns (24,25,34) have mixed types. Specify dtype option on import or set low_memory=False.\n",
      "  interactivity=interactivity, compiler=compiler, result=result)\n"
     ]
    },
    {
     "data": {
      "text/plain": [
       "4613411"
      ]
     },
     "execution_count": 2,
     "metadata": {},
     "output_type": "execute_result"
    }
   ],
   "source": [
    "import csv\n",
    "final_data = pd.read_csv(\"FinalData.csv\") \n",
    "len(final_data)"
   ]
  },
  {
   "cell_type": "code",
   "execution_count": 3,
   "metadata": {},
   "outputs": [],
   "source": [
    "final_data = final_data[final_data.YEAR2.notnull()]"
   ]
  },
  {
   "cell_type": "code",
   "execution_count": 5,
   "metadata": {},
   "outputs": [],
   "source": [
    "final_data['LOCATION_IN_OUT_CODE'] = final_data['LOCATION_IN_OUT_CODE'].astype('category')\n",
    "final_data['YEAR2'] = final_data['YEAR2'].astype('category')\n",
    "final_data['SUSPECT_SEX'] = final_data['SUSPECT_SEX'].astype('category')\n",
    "final_data['SUSPECT_BODY_BUILD_TYPE'] = final_data['SUSPECT_BODY_BUILD_TYPE'].astype('category')"
   ]
  },
  {
   "cell_type": "code",
   "execution_count": 6,
   "metadata": {},
   "outputs": [
    {
     "data": {
      "text/plain": [
       "['Unnamed: 0',\n",
       " 'LOCATION_IN_OUT_CODE',\n",
       " 'OBSERVED_DURATION_MINUTES',\n",
       " 'STOP_DURATION_MINUTES',\n",
       " 'HOUR',\n",
       " 'MIN',\n",
       " 'YEAR2',\n",
       " 'SUSPECT_ARRESTED_FLAG',\n",
       " 'SUMMONS_ISSUED_FLAG',\n",
       " 'FRISKED_FLAG',\n",
       " 'SEARCHED_FLAG',\n",
       " 'OTHER_CONTRABAND_FLAG',\n",
       " 'CIRCUMSTANCES_WEAPON',\n",
       " 'SUSPECTS_ACTIONS_DRUG_TRANSACTIONS_FLAG',\n",
       " 'BACKGROUND_CIRCUMSTANCES_VIOLENT_CRIME_FLAG',\n",
       " 'SUSPECT_RACE_DESCRIPTION',\n",
       " 'SUSPECT_REPORTED_AGE',\n",
       " 'CIRCUMSTANCES_SURVEILLANCE',\n",
       " 'SUSPECT_HEIGHT',\n",
       " 'SUSPECT_SEX',\n",
       " 'SUSPECT_BODY_BUILD_TYPE',\n",
       " 'STOP_LOCATION_PRECINCT',\n",
       " 'STOP_LOCATION_X',\n",
       " 'STOP_LOCATION_Y',\n",
       " 'CRIME_DESCRIPTION_SPECIFIC',\n",
       " 'CRIME_DESCRIPTION_GENERAL',\n",
       " 'KNIFE_CUTTER_FLAG',\n",
       " 'OTHER_WEAPON_FLAG',\n",
       " 'FIREARM_FLAG',\n",
       " 'PHYSICAL_FORCE_WEAPON_IMPACT_FLAG',\n",
       " 'PHYSICAL_FORCE_HANDCUFF_SUSPECT_FLAG',\n",
       " 'PHYSICAL_FORCE_DRAW_POINT_FIREARM_FLAG',\n",
       " 'PHYSICAL_FORCE_OTHER_FLAG',\n",
       " 'WEAPON',\n",
       " 'STOP_LOCATION_BOROUGH',\n",
       " 'PERC_BLACK_BOR']"
      ]
     },
     "execution_count": 6,
     "metadata": {},
     "output_type": "execute_result"
    }
   ],
   "source": [
    "list(final_data)"
   ]
  },
  {
   "cell_type": "code",
   "execution_count": 18,
   "metadata": {},
   "outputs": [
    {
     "data": {
      "text/html": [
       "<div>\n",
       "<style scoped>\n",
       "    .dataframe tbody tr th:only-of-type {\n",
       "        vertical-align: middle;\n",
       "    }\n",
       "\n",
       "    .dataframe tbody tr th {\n",
       "        vertical-align: top;\n",
       "    }\n",
       "\n",
       "    .dataframe thead th {\n",
       "        text-align: right;\n",
       "    }\n",
       "</style>\n",
       "<table border=\"1\" class=\"dataframe\">\n",
       "  <thead>\n",
       "    <tr style=\"text-align: right;\">\n",
       "      <th></th>\n",
       "      <th>YEAR</th>\n",
       "      <th>counts</th>\n",
       "    </tr>\n",
       "  </thead>\n",
       "  <tbody>\n",
       "    <tr>\n",
       "      <th>0</th>\n",
       "      <td>2005.0</td>\n",
       "      <td>398189</td>\n",
       "    </tr>\n",
       "    <tr>\n",
       "      <th>1</th>\n",
       "      <td>2006.0</td>\n",
       "      <td>506457</td>\n",
       "    </tr>\n",
       "    <tr>\n",
       "      <th>2</th>\n",
       "      <td>2007.0</td>\n",
       "      <td>472080</td>\n",
       "    </tr>\n",
       "    <tr>\n",
       "      <th>3</th>\n",
       "      <td>2008.0</td>\n",
       "      <td>540301</td>\n",
       "    </tr>\n",
       "    <tr>\n",
       "      <th>4</th>\n",
       "      <td>2009.0</td>\n",
       "      <td>581168</td>\n",
       "    </tr>\n",
       "    <tr>\n",
       "      <th>5</th>\n",
       "      <td>2010.0</td>\n",
       "      <td>601285</td>\n",
       "    </tr>\n",
       "    <tr>\n",
       "      <th>6</th>\n",
       "      <td>2011.0</td>\n",
       "      <td>685724</td>\n",
       "    </tr>\n",
       "    <tr>\n",
       "      <th>7</th>\n",
       "      <td>2012.0</td>\n",
       "      <td>532911</td>\n",
       "    </tr>\n",
       "    <tr>\n",
       "      <th>8</th>\n",
       "      <td>2013.0</td>\n",
       "      <td>191851</td>\n",
       "    </tr>\n",
       "    <tr>\n",
       "      <th>9</th>\n",
       "      <td>2014.0</td>\n",
       "      <td>45787</td>\n",
       "    </tr>\n",
       "    <tr>\n",
       "      <th>10</th>\n",
       "      <td>2015.0</td>\n",
       "      <td>22563</td>\n",
       "    </tr>\n",
       "    <tr>\n",
       "      <th>11</th>\n",
       "      <td>2016.0</td>\n",
       "      <td>12404</td>\n",
       "    </tr>\n",
       "  </tbody>\n",
       "</table>\n",
       "</div>"
      ],
      "text/plain": [
       "      YEAR  counts\n",
       "0   2005.0  398189\n",
       "1   2006.0  506457\n",
       "2   2007.0  472080\n",
       "3   2008.0  540301\n",
       "4   2009.0  581168\n",
       "5   2010.0  601285\n",
       "6   2011.0  685724\n",
       "7   2012.0  532911\n",
       "8   2013.0  191851\n",
       "9   2014.0   45787\n",
       "10  2015.0   22563\n",
       "11  2016.0   12404"
      ]
     },
     "execution_count": 18,
     "metadata": {},
     "output_type": "execute_result"
    }
   ],
   "source": [
    "by_year_stopped = final_data.groupby(['YEAR']).size().reset_index(name='counts')\n",
    "by_year_stopped"
   ]
  },
  {
   "cell_type": "code",
   "execution_count": 24,
   "metadata": {},
   "outputs": [
    {
     "data": {
      "image/png": "[encoded data removed]",
      "text/plain": [
       "<Figure size 432x288 with 1 Axes>"
      ]
     },
     "metadata": {
      "needs_background": "light"
     },
     "output_type": "display_data"
    }
   ],
   "source": [
    "p_stopped = by_year_stopped.plot.scatter(x='YEAR', y='counts',c='DarkBlue', title='The number of stopped by year')\n",
    "p_stopped.set(xlabel=\"Year\", ylabel=\"# of stopped\")\n",
    "p_stopped.get_figure().savefig('plot_stopped.jpg')"
   ]
  },
  {
   "cell_type": "code",
   "execution_count": 11,
   "metadata": {},
   "outputs": [
    {
     "data": {
      "text/html": [
       "<div>\n",
       "<style scoped>\n",
       "    .dataframe tbody tr th:only-of-type {\n",
       "        vertical-align: middle;\n",
       "    }\n",
       "\n",
       "    .dataframe tbody tr th {\n",
       "        vertical-align: top;\n",
       "    }\n",
       "\n",
       "    .dataframe thead th {\n",
       "        text-align: right;\n",
       "    }\n",
       "</style>\n",
       "<table border=\"1\" class=\"dataframe\">\n",
       "  <thead>\n",
       "    <tr style=\"text-align: right;\">\n",
       "      <th></th>\n",
       "      <th>SUSPECT_RACE_DESCRIPTION</th>\n",
       "      <th>YEAR2</th>\n",
       "      <th>counts</th>\n",
       "    </tr>\n",
       "  </thead>\n",
       "  <tbody>\n",
       "    <tr>\n",
       "      <th>0</th>\n",
       "      <td>American Indian</td>\n",
       "      <td>2005.0</td>\n",
       "      <td>1620</td>\n",
       "    </tr>\n",
       "    <tr>\n",
       "      <th>1</th>\n",
       "      <td>American Indian</td>\n",
       "      <td>2006.0</td>\n",
       "      <td>1863</td>\n",
       "    </tr>\n",
       "    <tr>\n",
       "      <th>2</th>\n",
       "      <td>American Indian</td>\n",
       "      <td>2007.0</td>\n",
       "      <td>1762</td>\n",
       "    </tr>\n",
       "    <tr>\n",
       "      <th>3</th>\n",
       "      <td>American Indian</td>\n",
       "      <td>2008.0</td>\n",
       "      <td>2031</td>\n",
       "    </tr>\n",
       "    <tr>\n",
       "      <th>4</th>\n",
       "      <td>American Indian</td>\n",
       "      <td>2009.0</td>\n",
       "      <td>2271</td>\n",
       "    </tr>\n",
       "    <tr>\n",
       "      <th>...</th>\n",
       "      <td>...</td>\n",
       "      <td>...</td>\n",
       "      <td>...</td>\n",
       "    </tr>\n",
       "    <tr>\n",
       "      <th>93</th>\n",
       "      <td>White Hispanic</td>\n",
       "      <td>2014.0</td>\n",
       "      <td>9700</td>\n",
       "    </tr>\n",
       "    <tr>\n",
       "      <th>94</th>\n",
       "      <td>White Hispanic</td>\n",
       "      <td>2015.0</td>\n",
       "      <td>5090</td>\n",
       "    </tr>\n",
       "    <tr>\n",
       "      <th>95</th>\n",
       "      <td>White Hispanic</td>\n",
       "      <td>2016.0</td>\n",
       "      <td>2753</td>\n",
       "    </tr>\n",
       "    <tr>\n",
       "      <th>96</th>\n",
       "      <td>White Hispanic</td>\n",
       "      <td>2017.0</td>\n",
       "      <td>2570</td>\n",
       "    </tr>\n",
       "    <tr>\n",
       "      <th>97</th>\n",
       "      <td>White Hispanic</td>\n",
       "      <td>2018.0</td>\n",
       "      <td>2411</td>\n",
       "    </tr>\n",
       "  </tbody>\n",
       "</table>\n",
       "<p>98 rows × 3 columns</p>\n",
       "</div>"
      ],
      "text/plain": [
       "   SUSPECT_RACE_DESCRIPTION   YEAR2  counts\n",
       "0           American Indian  2005.0    1620\n",
       "1           American Indian  2006.0    1863\n",
       "2           American Indian  2007.0    1762\n",
       "3           American Indian  2008.0    2031\n",
       "4           American Indian  2009.0    2271\n",
       "..                      ...     ...     ...\n",
       "93           White Hispanic  2014.0    9700\n",
       "94           White Hispanic  2015.0    5090\n",
       "95           White Hispanic  2016.0    2753\n",
       "96           White Hispanic  2017.0    2570\n",
       "97           White Hispanic  2018.0    2411\n",
       "\n",
       "[98 rows x 3 columns]"
      ]
     },
     "execution_count": 11,
     "metadata": {},
     "output_type": "execute_result"
    }
   ],
   "source": [
    "stopped_by_race = final_data.groupby(['SUSPECT_RACE_DESCRIPTION']).size().reset_index(name='counts')\n",
    "stopped_by_race"
   ]
  },
  {
   "cell_type": "code",
   "execution_count": 21,
   "metadata": {},
   "outputs": [
    {
     "data": {
      "text/html": [
       "<div>\n",
       "<style scoped>\n",
       "    .dataframe tbody tr th:only-of-type {\n",
       "        vertical-align: middle;\n",
       "    }\n",
       "\n",
       "    .dataframe tbody tr th {\n",
       "        vertical-align: top;\n",
       "    }\n",
       "\n",
       "    .dataframe thead th {\n",
       "        text-align: right;\n",
       "    }\n",
       "</style>\n",
       "<table border=\"1\" class=\"dataframe\">\n",
       "  <thead>\n",
       "    <tr style=\"text-align: right;\">\n",
       "      <th></th>\n",
       "      <th>YEAR</th>\n",
       "      <th>counts</th>\n",
       "    </tr>\n",
       "  </thead>\n",
       "  <tbody>\n",
       "    <tr>\n",
       "      <th>0</th>\n",
       "      <td>2005.0</td>\n",
       "      <td>167893</td>\n",
       "    </tr>\n",
       "    <tr>\n",
       "      <th>1</th>\n",
       "      <td>2006.0</td>\n",
       "      <td>217162</td>\n",
       "    </tr>\n",
       "    <tr>\n",
       "      <th>2</th>\n",
       "      <td>2007.0</td>\n",
       "      <td>245023</td>\n",
       "    </tr>\n",
       "    <tr>\n",
       "      <th>3</th>\n",
       "      <td>2008.0</td>\n",
       "      <td>293838</td>\n",
       "    </tr>\n",
       "    <tr>\n",
       "      <th>4</th>\n",
       "      <td>2009.0</td>\n",
       "      <td>329925</td>\n",
       "    </tr>\n",
       "    <tr>\n",
       "      <th>5</th>\n",
       "      <td>2010.0</td>\n",
       "      <td>337406</td>\n",
       "    </tr>\n",
       "    <tr>\n",
       "      <th>6</th>\n",
       "      <td>2011.0</td>\n",
       "      <td>381704</td>\n",
       "    </tr>\n",
       "    <tr>\n",
       "      <th>7</th>\n",
       "      <td>2012.0</td>\n",
       "      <td>297244</td>\n",
       "    </tr>\n",
       "    <tr>\n",
       "      <th>8</th>\n",
       "      <td>2013.0</td>\n",
       "      <td>111639</td>\n",
       "    </tr>\n",
       "    <tr>\n",
       "      <th>9</th>\n",
       "      <td>2014.0</td>\n",
       "      <td>30345</td>\n",
       "    </tr>\n",
       "    <tr>\n",
       "      <th>10</th>\n",
       "      <td>2015.0</td>\n",
       "      <td>15257</td>\n",
       "    </tr>\n",
       "    <tr>\n",
       "      <th>11</th>\n",
       "      <td>2016.0</td>\n",
       "      <td>7939</td>\n",
       "    </tr>\n",
       "  </tbody>\n",
       "</table>\n",
       "</div>"
      ],
      "text/plain": [
       "      YEAR  counts\n",
       "0   2005.0  167893\n",
       "1   2006.0  217162\n",
       "2   2007.0  245023\n",
       "3   2008.0  293838\n",
       "4   2009.0  329925\n",
       "5   2010.0  337406\n",
       "6   2011.0  381704\n",
       "7   2012.0  297244\n",
       "8   2013.0  111639\n",
       "9   2014.0   30345\n",
       "10  2015.0   15257\n",
       "11  2016.0    7939"
      ]
     },
     "execution_count": 21,
     "metadata": {},
     "output_type": "execute_result"
    }
   ],
   "source": [
    "frisked_data = final_data[final_data['FRISKED_FLAG']==1]\n",
    "by_year_frisked = frisked_data.groupby(['YEAR']).size().reset_index(name='counts')\n",
    "by_year_frisked"
   ]
  },
  {
   "cell_type": "code",
   "execution_count": 25,
   "metadata": {},
   "outputs": [
    {
     "data": {
      "image/png": "[encoded data removed]",
      "text/plain": [
       "<Figure size 432x288 with 1 Axes>"
      ]
     },
     "metadata": {
      "needs_background": "light"
     },
     "output_type": "display_data"
    },
    {
     "data": {
      "image/png": "[encoded data removed]",
      "text/plain": [
       "<Figure size 432x288 with 1 Axes>"
      ]
     },
     "metadata": {
      "needs_background": "light"
     },
     "output_type": "display_data"
    }
   ],
   "source": [
    "p_frisked = by_year_frisked.plot.scatter(x='YEAR', y='counts',c='DarkBlue', title='The number of frisked by year')\n",
    "p_frisked.set(xlabel=\"Year\", ylabel=\"# of frisked\")\n",
    "p_frisked.get_figure().savefig('plot_frisked.jpg')"
   ]
  },
  {
   "cell_type": "code",
   "execution_count": 56,
   "metadata": {},
   "outputs": [],
   "source": [
    "full_colnames = ['LOCATION_IN_OUT_CODE', 'YEAR', 'SUMMONS_ISSUED_FLAG', 'OTHER_CONTRABAND_FLAG', 'CIRCUMSTANCES_WEAPON',\n",
    "                 'SUSPECTS_ACTIONS_DRUG_TRANSACTIONS_FLAG','CIRCUMSTANCES_SURVEILLANCE','SUSPECT_HEIGHT', 'WEAPON',  'PHYSICAL_FORCE_WEAPON_IMPACT_FLAG','PHYSICAL_FORCE_HANDCUFF_SUSPECT_FLAG',\n",
    "                 'PHYSICAL_FORCE_DRAW_POINT_FIREARM_FLAG', 'PHYSICAL_FORCE_OTHER_FLAG','PERC_BLACK_BOR', 'SUSPECT_SEX', 'SUSPECT_BODY_BUILD_TYPE', 'FRISKED_FLAG']\n",
    "filtered = final_data[full_colnames].dropna(axis=0) "
   ]
  },
  {
   "cell_type": "code",
   "execution_count": 52,
   "metadata": {},
   "outputs": [],
   "source": [
    "sex = pd.get_dummies(filtered['SUSPECT_SEX'],drop_first=True)\n",
    "build = pd.get_dummies(filtered['SUSPECT_BODY_BUILD_TYPE'],drop_first=True)"
   ]
  },
  {
   "cell_type": "code",
   "execution_count": 53,
   "metadata": {},
   "outputs": [
    {
     "data": {
      "text/html": [
       "<div>\n",
       "<style scoped>\n",
       "    .dataframe tbody tr th:only-of-type {\n",
       "        vertical-align: middle;\n",
       "    }\n",
       "\n",
       "    .dataframe tbody tr th {\n",
       "        vertical-align: top;\n",
       "    }\n",
       "\n",
       "    .dataframe thead th {\n",
       "        text-align: right;\n",
       "    }\n",
       "</style>\n",
       "<table border=\"1\" class=\"dataframe\">\n",
       "  <thead>\n",
       "    <tr style=\"text-align: right;\">\n",
       "      <th></th>\n",
       "      <th>LOCATION_IN_OUT_CODE</th>\n",
       "      <th>YEAR</th>\n",
       "      <th>SUMMONS_ISSUED_FLAG</th>\n",
       "      <th>OTHER_CONTRABAND_FLAG</th>\n",
       "      <th>CIRCUMSTANCES_WEAPON</th>\n",
       "      <th>SUSPECTS_ACTIONS_DRUG_TRANSACTIONS_FLAG</th>\n",
       "      <th>CIRCUMSTANCES_SURVEILLANCE</th>\n",
       "      <th>SUSPECT_HEIGHT</th>\n",
       "      <th>WEAPON</th>\n",
       "      <th>PHYSICAL_FORCE_WEAPON_IMPACT_FLAG</th>\n",
       "      <th>PHYSICAL_FORCE_HANDCUFF_SUSPECT_FLAG</th>\n",
       "      <th>PHYSICAL_FORCE_DRAW_POINT_FIREARM_FLAG</th>\n",
       "      <th>PHYSICAL_FORCE_OTHER_FLAG</th>\n",
       "      <th>PERC_BLACK_BOR</th>\n",
       "      <th>M</th>\n",
       "      <th>Z</th>\n",
       "      <th>MEDIUM</th>\n",
       "      <th>THIN</th>\n",
       "      <th>Unknown</th>\n",
       "    </tr>\n",
       "  </thead>\n",
       "  <tbody>\n",
       "    <tr>\n",
       "      <th>0</th>\n",
       "      <td>1.0</td>\n",
       "      <td>2005.0</td>\n",
       "      <td>0.0</td>\n",
       "      <td>0.0</td>\n",
       "      <td>0</td>\n",
       "      <td>0.0</td>\n",
       "      <td>1.0</td>\n",
       "      <td>75.0</td>\n",
       "      <td>0.0</td>\n",
       "      <td>0.0</td>\n",
       "      <td>0.0</td>\n",
       "      <td>0</td>\n",
       "      <td>0.0</td>\n",
       "      <td>11.5</td>\n",
       "      <td>1.0</td>\n",
       "      <td>0.0</td>\n",
       "      <td>1.0</td>\n",
       "      <td>0.0</td>\n",
       "      <td>0.0</td>\n",
       "    </tr>\n",
       "    <tr>\n",
       "      <th>1</th>\n",
       "      <td>0.0</td>\n",
       "      <td>2005.0</td>\n",
       "      <td>0.0</td>\n",
       "      <td>0.0</td>\n",
       "      <td>0</td>\n",
       "      <td>0.0</td>\n",
       "      <td>0.0</td>\n",
       "      <td>70.0</td>\n",
       "      <td>0.0</td>\n",
       "      <td>0.0</td>\n",
       "      <td>0.0</td>\n",
       "      <td>0</td>\n",
       "      <td>0.0</td>\n",
       "      <td>11.5</td>\n",
       "      <td>1.0</td>\n",
       "      <td>0.0</td>\n",
       "      <td>1.0</td>\n",
       "      <td>0.0</td>\n",
       "      <td>0.0</td>\n",
       "    </tr>\n",
       "    <tr>\n",
       "      <th>2</th>\n",
       "      <td>0.0</td>\n",
       "      <td>2005.0</td>\n",
       "      <td>0.0</td>\n",
       "      <td>0.0</td>\n",
       "      <td>0</td>\n",
       "      <td>0.0</td>\n",
       "      <td>0.0</td>\n",
       "      <td>65.0</td>\n",
       "      <td>0.0</td>\n",
       "      <td>0.0</td>\n",
       "      <td>0.0</td>\n",
       "      <td>0</td>\n",
       "      <td>0.0</td>\n",
       "      <td>11.5</td>\n",
       "      <td>1.0</td>\n",
       "      <td>0.0</td>\n",
       "      <td>0.0</td>\n",
       "      <td>1.0</td>\n",
       "      <td>0.0</td>\n",
       "    </tr>\n",
       "    <tr>\n",
       "      <th>3</th>\n",
       "      <td>0.0</td>\n",
       "      <td>2005.0</td>\n",
       "      <td>0.0</td>\n",
       "      <td>0.0</td>\n",
       "      <td>0</td>\n",
       "      <td>0.0</td>\n",
       "      <td>0.0</td>\n",
       "      <td>72.0</td>\n",
       "      <td>0.0</td>\n",
       "      <td>0.0</td>\n",
       "      <td>0.0</td>\n",
       "      <td>0</td>\n",
       "      <td>0.0</td>\n",
       "      <td>11.5</td>\n",
       "      <td>1.0</td>\n",
       "      <td>0.0</td>\n",
       "      <td>0.0</td>\n",
       "      <td>1.0</td>\n",
       "      <td>0.0</td>\n",
       "    </tr>\n",
       "    <tr>\n",
       "      <th>4</th>\n",
       "      <td>0.0</td>\n",
       "      <td>2005.0</td>\n",
       "      <td>0.0</td>\n",
       "      <td>0.0</td>\n",
       "      <td>0</td>\n",
       "      <td>0.0</td>\n",
       "      <td>1.0</td>\n",
       "      <td>60.0</td>\n",
       "      <td>0.0</td>\n",
       "      <td>0.0</td>\n",
       "      <td>0.0</td>\n",
       "      <td>0</td>\n",
       "      <td>0.0</td>\n",
       "      <td>11.5</td>\n",
       "      <td>0.0</td>\n",
       "      <td>0.0</td>\n",
       "      <td>0.0</td>\n",
       "      <td>1.0</td>\n",
       "      <td>0.0</td>\n",
       "    </tr>\n",
       "  </tbody>\n",
       "</table>\n",
       "</div>"
      ],
      "text/plain": [
       "  LOCATION_IN_OUT_CODE    YEAR  SUMMONS_ISSUED_FLAG  OTHER_CONTRABAND_FLAG  \\\n",
       "0                  1.0  2005.0                  0.0                    0.0   \n",
       "1                  0.0  2005.0                  0.0                    0.0   \n",
       "2                  0.0  2005.0                  0.0                    0.0   \n",
       "3                  0.0  2005.0                  0.0                    0.0   \n",
       "4                  0.0  2005.0                  0.0                    0.0   \n",
       "\n",
       "   CIRCUMSTANCES_WEAPON  SUSPECTS_ACTIONS_DRUG_TRANSACTIONS_FLAG  \\\n",
       "0                     0                                      0.0   \n",
       "1                     0                                      0.0   \n",
       "2                     0                                      0.0   \n",
       "3                     0                                      0.0   \n",
       "4                     0                                      0.0   \n",
       "\n",
       "   CIRCUMSTANCES_SURVEILLANCE  SUSPECT_HEIGHT  WEAPON  \\\n",
       "0                         1.0            75.0     0.0   \n",
       "1                         0.0            70.0     0.0   \n",
       "2                         0.0            65.0     0.0   \n",
       "3                         0.0            72.0     0.0   \n",
       "4                         1.0            60.0     0.0   \n",
       "\n",
       "   PHYSICAL_FORCE_WEAPON_IMPACT_FLAG  PHYSICAL_FORCE_HANDCUFF_SUSPECT_FLAG  \\\n",
       "0                                0.0                                   0.0   \n",
       "1                                0.0                                   0.0   \n",
       "2                                0.0                                   0.0   \n",
       "3                                0.0                                   0.0   \n",
       "4                                0.0                                   0.0   \n",
       "\n",
       "   PHYSICAL_FORCE_DRAW_POINT_FIREARM_FLAG  PHYSICAL_FORCE_OTHER_FLAG  \\\n",
       "0                                       0                        0.0   \n",
       "1                                       0                        0.0   \n",
       "2                                       0                        0.0   \n",
       "3                                       0                        0.0   \n",
       "4                                       0                        0.0   \n",
       "\n",
       "   PERC_BLACK_BOR    M    Z  MEDIUM  THIN  Unknown  \n",
       "0            11.5  1.0  0.0     1.0   0.0      0.0  \n",
       "1            11.5  1.0  0.0     1.0   0.0      0.0  \n",
       "2            11.5  1.0  0.0     0.0   1.0      0.0  \n",
       "3            11.5  1.0  0.0     0.0   1.0      0.0  \n",
       "4            11.5  0.0  0.0     0.0   1.0      0.0  "
      ]
     },
     "execution_count": 53,
     "metadata": {},
     "output_type": "execute_result"
    }
   ],
   "source": [
    "X = pd.concat([filtered[full_colnames[:len(full_colnames)-2]],sex,build],axis=1) \n",
    "X.head()"
   ]
  },
  {
   "cell_type": "code",
   "execution_count": 57,
   "metadata": {},
   "outputs": [
    {
     "name": "stderr",
     "output_type": "stream",
     "text": [
      "/home/stellasylee/anaconda3/lib/python3.7/site-packages/sklearn/linear_model/logistic.py:433: FutureWarning: Default solver will be changed to 'lbfgs' in 0.22. Specify a solver to silence this warning.\n",
      "  FutureWarning)\n"
     ]
    }
   ],
   "source": [
    "X = pd.concat([filtered[full_colnames[:len(full_colnames)-3]],sex,build],axis=1) \n",
    "y = filtered['FRISKED_FLAG']\n",
    "\n",
    "X_train,X_test,y_train,y_test = train_test_split(X,y,test_size=0.25,random_state=0)\n",
    "logreg = LogisticRegression()\n",
    "logreg.fit(X_train,y_train)\n",
    "y_pred=logreg.predict(X_test)"
   ]
  },
  {
   "cell_type": "code",
   "execution_count": 59,
   "metadata": {},
   "outputs": [
    {
     "name": "stdout",
     "output_type": "stream",
     "text": [
      "[[164070 154729]\n",
      " [ 88395 331717]]\n"
     ]
    }
   ],
   "source": [
    "from sklearn.metrics import confusion_matrix\n",
    "confusion_matrix = confusion_matrix(y_test, y_pred)\n",
    "print(confusion_matrix)"
   ]
  },
  {
   "cell_type": "code",
   "execution_count": 62,
   "metadata": {},
   "outputs": [
    {
     "data": {
      "text/plain": [
       "Text(0.5, 257.44, 'Predicted label')"
      ]
     },
     "execution_count": 62,
     "metadata": {},
     "output_type": "execute_result"
    },
    {
     "data": {
      "image/png": "[encoded data removed]",
      "text/plain": [
       "<Figure size 432x288 with 2 Axes>"
      ]
     },
     "metadata": {
      "needs_background": "light"
     },
     "output_type": "display_data"
    }
   ],
   "source": [
    "class_names=[0,1] # name  of classes\n",
    "fig, ax = plt.subplots()\n",
    "tick_marks = np.arange(len(class_names))\n",
    "plt.xticks(tick_marks, class_names)\n",
    "plt.yticks(tick_marks, class_names)\n",
    "# create heatmap\n",
    "sn.heatmap(pd.DataFrame(confusion_matrix), annot=True, cmap=\"YlGnBu\" ,fmt='g')\n",
    "ax.xaxis.set_label_position(\"top\")\n",
    "plt.tight_layout()\n",
    "plt.title('Confusion matrix', y=1.1)\n",
    "plt.ylabel('Actual label')\n",
    "plt.xlabel('Predicted label')"
   ]
  },
  {
   "cell_type": "code",
   "execution_count": 63,
   "metadata": {},
   "outputs": [
    {
     "name": "stdout",
     "output_type": "stream",
     "text": [
      "Accuracy: 0.6709698461655057\n",
      "Precision: 0.6819194730761482\n",
      "Recall: 0.7895918231328789\n"
     ]
    }
   ],
   "source": [
    "print(\"Accuracy:\",metrics.accuracy_score(y_test, y_pred))\n",
    "print(\"Precision:\",metrics.precision_score(y_test, y_pred))\n",
    "print(\"Recall:\",metrics.recall_score(y_test, y_pred))"
   ]
  },
  {
   "cell_type": "code",
   "execution_count": 64,
   "metadata": {},
   "outputs": [
    {
     "data": {
      "image/png": "[encoded data removed]",
      "text/plain": [
       "<Figure size 432x288 with 1 Axes>"
      ]
     },
     "metadata": {
      "needs_background": "light"
     },
     "output_type": "display_data"
    }
   ],
   "source": [
    "y_pred_proba = logreg.predict_proba(X_test)[::,1]\n",
    "fpr, tpr, _ = metrics.roc_curve(y_test,  y_pred_proba)\n",
    "auc = metrics.roc_auc_score(y_test, y_pred_proba)\n",
    "plt.plot(fpr,tpr,label=\"data 1, auc=\"+str(auc))\n",
    "plt.legend(loc=4)\n",
    "plt.show()"
   ]
  },
  {
   "cell_type": "code",
   "execution_count": 8,
   "metadata": {},
   "outputs": [],
   "source": [
    "frisked_full = pd.read_csv(\"friskedmodel.csv\") "
   ]
  },
  {
   "cell_type": "code",
   "execution_count": null,
   "metadata": {},
   "outputs": [],
   "source": [
    "l"
   ]
  },
  {
   "cell_type": "code",
   "execution_count": 70,
   "metadata": {},
   "outputs": [
    {
     "data": {
      "text/plain": [
       "['Unnamed: 0',\n",
       " 'FRISKED_FLAG',\n",
       " 'LOCATION_IN_OUT_CODE',\n",
       " 'OTHER_CONTRABAND_FLAG',\n",
       " 'CIRCUMSTANCES_WEAPON',\n",
       " 'SUSPECTS_ACTIONS_DRUG_TRANSACTIONS_FLAG',\n",
       " 'CIRCUMSTANCES_SURVEILLANCE',\n",
       " 'SUSPECT_SEX',\n",
       " 'WEAPON',\n",
       " 'PHYSICAL_FORCE_HANDCUFF_SUSPECT_FLAG',\n",
       " 'PHYSICAL_FORCE_OTHER_FLAG',\n",
       " 'PERC_BLACK_BOR',\n",
       " 'predicted',\n",
       " 'res_pearson']"
      ]
     },
     "execution_count": 70,
     "metadata": {},
     "output_type": "execute_result"
    }
   ],
   "source": [
    "list(frisked_full)"
   ]
  },
  {
   "cell_type": "code",
   "execution_count": 74,
   "metadata": {},
   "outputs": [
    {
     "data": {
      "text/plain": [
       "<matplotlib.axes._subplots.AxesSubplot at 0x7fd759f79320>"
      ]
     },
     "execution_count": 74,
     "metadata": {},
     "output_type": "execute_result"
    },
    {
     "data": {
      "image/png": "[encoded data removed]",
      "text/plain": [
       "<Figure size 432x288 with 1 Axes>"
      ]
     },
     "metadata": {
      "needs_background": "light"
     },
     "output_type": "display_data"
    }
   ],
   "source": [
    "sn.boxplot(data=frisked_full, x='SUSPECT_SEX', y='predicted')"
   ]
  },
  {
   "cell_type": "code",
   "execution_count": 7,
   "metadata": {},
   "outputs": [
    {
     "name": "stderr",
     "output_type": "stream",
     "text": [
      "/home/stellasylee/anaconda3/lib/python3.7/site-packages/IPython/core/interactiveshell.py:3049: DtypeWarning: Columns (25,26,35) have mixed types. Specify dtype option on import or set low_memory=False.\n",
      "  interactivity=interactivity, compiler=compiler, result=result)\n"
     ]
    }
   ],
   "source": [
    "model_results = pd.read_csv(\"finalstretch.csv\") "
   ]
  },
  {
   "cell_type": "code",
   "execution_count": 18,
   "metadata": {},
   "outputs": [
    {
     "data": {
      "text/html": [
       "<div>\n",
       "<style scoped>\n",
       "    .dataframe tbody tr th:only-of-type {\n",
       "        vertical-align: middle;\n",
       "    }\n",
       "\n",
       "    .dataframe tbody tr th {\n",
       "        vertical-align: top;\n",
       "    }\n",
       "\n",
       "    .dataframe thead th {\n",
       "        text-align: right;\n",
       "    }\n",
       "</style>\n",
       "<table border=\"1\" class=\"dataframe\">\n",
       "  <thead>\n",
       "    <tr style=\"text-align: right;\">\n",
       "      <th></th>\n",
       "      <th>Unnamed: 0</th>\n",
       "      <th>X</th>\n",
       "      <th>LOCATION_IN_OUT_CODE</th>\n",
       "      <th>OBSERVED_DURATION_MINUTES</th>\n",
       "      <th>STOP_DURATION_MINUTES</th>\n",
       "      <th>HOUR</th>\n",
       "      <th>MIN</th>\n",
       "      <th>YEAR2</th>\n",
       "      <th>SUSPECT_ARRESTED_FLAG</th>\n",
       "      <th>SUMMONS_ISSUED_FLAG</th>\n",
       "      <th>...</th>\n",
       "      <th>PHYSICAL_FORCE_WEAPON_IMPACT_FLAG</th>\n",
       "      <th>PHYSICAL_FORCE_HANDCUFF_SUSPECT_FLAG</th>\n",
       "      <th>PHYSICAL_FORCE_DRAW_POINT_FIREARM_FLAG</th>\n",
       "      <th>PHYSICAL_FORCE_OTHER_FLAG</th>\n",
       "      <th>WEAPON</th>\n",
       "      <th>STOP_LOCATION_BOROUGH</th>\n",
       "      <th>PERC_BLACK_BOR</th>\n",
       "      <th>AFTER2013</th>\n",
       "      <th>predicted</th>\n",
       "      <th>predicted_with_year</th>\n",
       "    </tr>\n",
       "  </thead>\n",
       "  <tbody>\n",
       "    <tr>\n",
       "      <th>4318168</th>\n",
       "      <td>4318169</td>\n",
       "      <td>4318169</td>\n",
       "      <td>1.0</td>\n",
       "      <td>6.0</td>\n",
       "      <td>1.0</td>\n",
       "      <td>4.0</td>\n",
       "      <td>52.0</td>\n",
       "      <td>2013</td>\n",
       "      <td>0</td>\n",
       "      <td>0.0</td>\n",
       "      <td>...</td>\n",
       "      <td>0.0</td>\n",
       "      <td>0.0</td>\n",
       "      <td>0</td>\n",
       "      <td>0.0</td>\n",
       "      <td>0.0</td>\n",
       "      <td>Manhattan</td>\n",
       "      <td>NaN</td>\n",
       "      <td>1</td>\n",
       "      <td>NaN</td>\n",
       "      <td>NaN</td>\n",
       "    </tr>\n",
       "    <tr>\n",
       "      <th>4318169</th>\n",
       "      <td>4318170</td>\n",
       "      <td>4318170</td>\n",
       "      <td>1.0</td>\n",
       "      <td>15.0</td>\n",
       "      <td>3.0</td>\n",
       "      <td>3.0</td>\n",
       "      <td>15.0</td>\n",
       "      <td>2013</td>\n",
       "      <td>0</td>\n",
       "      <td>0.0</td>\n",
       "      <td>...</td>\n",
       "      <td>0.0</td>\n",
       "      <td>0.0</td>\n",
       "      <td>0</td>\n",
       "      <td>0.0</td>\n",
       "      <td>0.0</td>\n",
       "      <td>Manhattan</td>\n",
       "      <td>NaN</td>\n",
       "      <td>1</td>\n",
       "      <td>NaN</td>\n",
       "      <td>NaN</td>\n",
       "    </tr>\n",
       "    <tr>\n",
       "      <th>4318170</th>\n",
       "      <td>4318171</td>\n",
       "      <td>4318171</td>\n",
       "      <td>1.0</td>\n",
       "      <td>10.0</td>\n",
       "      <td>5.0</td>\n",
       "      <td>3.0</td>\n",
       "      <td>0.0</td>\n",
       "      <td>2013</td>\n",
       "      <td>0</td>\n",
       "      <td>0.0</td>\n",
       "      <td>...</td>\n",
       "      <td>0.0</td>\n",
       "      <td>0.0</td>\n",
       "      <td>0</td>\n",
       "      <td>1.0</td>\n",
       "      <td>0.0</td>\n",
       "      <td>Manhattan</td>\n",
       "      <td>NaN</td>\n",
       "      <td>1</td>\n",
       "      <td>NaN</td>\n",
       "      <td>NaN</td>\n",
       "    </tr>\n",
       "    <tr>\n",
       "      <th>4318171</th>\n",
       "      <td>4318172</td>\n",
       "      <td>4318172</td>\n",
       "      <td>0.0</td>\n",
       "      <td>1.0</td>\n",
       "      <td>1.0</td>\n",
       "      <td>12.0</td>\n",
       "      <td>12.0</td>\n",
       "      <td>2013</td>\n",
       "      <td>0</td>\n",
       "      <td>0.0</td>\n",
       "      <td>...</td>\n",
       "      <td>0.0</td>\n",
       "      <td>0.0</td>\n",
       "      <td>0</td>\n",
       "      <td>0.0</td>\n",
       "      <td>0.0</td>\n",
       "      <td>Manhattan</td>\n",
       "      <td>NaN</td>\n",
       "      <td>1</td>\n",
       "      <td>NaN</td>\n",
       "      <td>NaN</td>\n",
       "    </tr>\n",
       "    <tr>\n",
       "      <th>4318172</th>\n",
       "      <td>4318173</td>\n",
       "      <td>4318173</td>\n",
       "      <td>0.0</td>\n",
       "      <td>5.0</td>\n",
       "      <td>2.0</td>\n",
       "      <td>23.0</td>\n",
       "      <td>0.0</td>\n",
       "      <td>2013</td>\n",
       "      <td>0</td>\n",
       "      <td>0.0</td>\n",
       "      <td>...</td>\n",
       "      <td>0.0</td>\n",
       "      <td>0.0</td>\n",
       "      <td>0</td>\n",
       "      <td>0.0</td>\n",
       "      <td>0.0</td>\n",
       "      <td>Manhattan</td>\n",
       "      <td>NaN</td>\n",
       "      <td>1</td>\n",
       "      <td>NaN</td>\n",
       "      <td>NaN</td>\n",
       "    </tr>\n",
       "  </tbody>\n",
       "</table>\n",
       "<p>5 rows × 40 columns</p>\n",
       "</div>"
      ],
      "text/plain": [
       "         Unnamed: 0        X  LOCATION_IN_OUT_CODE  OBSERVED_DURATION_MINUTES  \\\n",
       "4318168     4318169  4318169                   1.0                        6.0   \n",
       "4318169     4318170  4318170                   1.0                       15.0   \n",
       "4318170     4318171  4318171                   1.0                       10.0   \n",
       "4318171     4318172  4318172                   0.0                        1.0   \n",
       "4318172     4318173  4318173                   0.0                        5.0   \n",
       "\n",
       "         STOP_DURATION_MINUTES  HOUR   MIN  YEAR2  SUSPECT_ARRESTED_FLAG  \\\n",
       "4318168                    1.0   4.0  52.0   2013                      0   \n",
       "4318169                    3.0   3.0  15.0   2013                      0   \n",
       "4318170                    5.0   3.0   0.0   2013                      0   \n",
       "4318171                    1.0  12.0  12.0   2013                      0   \n",
       "4318172                    2.0  23.0   0.0   2013                      0   \n",
       "\n",
       "         SUMMONS_ISSUED_FLAG  ...  PHYSICAL_FORCE_WEAPON_IMPACT_FLAG  \\\n",
       "4318168                  0.0  ...                                0.0   \n",
       "4318169                  0.0  ...                                0.0   \n",
       "4318170                  0.0  ...                                0.0   \n",
       "4318171                  0.0  ...                                0.0   \n",
       "4318172                  0.0  ...                                0.0   \n",
       "\n",
       "         PHYSICAL_FORCE_HANDCUFF_SUSPECT_FLAG  \\\n",
       "4318168                                   0.0   \n",
       "4318169                                   0.0   \n",
       "4318170                                   0.0   \n",
       "4318171                                   0.0   \n",
       "4318172                                   0.0   \n",
       "\n",
       "         PHYSICAL_FORCE_DRAW_POINT_FIREARM_FLAG  PHYSICAL_FORCE_OTHER_FLAG  \\\n",
       "4318168                                       0                        0.0   \n",
       "4318169                                       0                        0.0   \n",
       "4318170                                       0                        1.0   \n",
       "4318171                                       0                        0.0   \n",
       "4318172                                       0                        0.0   \n",
       "\n",
       "         WEAPON  STOP_LOCATION_BOROUGH PERC_BLACK_BOR  AFTER2013  predicted  \\\n",
       "4318168     0.0              Manhattan            NaN          1        NaN   \n",
       "4318169     0.0              Manhattan            NaN          1        NaN   \n",
       "4318170     0.0              Manhattan            NaN          1        NaN   \n",
       "4318171     0.0              Manhattan            NaN          1        NaN   \n",
       "4318172     0.0              Manhattan            NaN          1        NaN   \n",
       "\n",
       "         predicted_with_year  \n",
       "4318168                  NaN  \n",
       "4318169                  NaN  \n",
       "4318170                  NaN  \n",
       "4318171                  NaN  \n",
       "4318172                  NaN  \n",
       "\n",
       "[5 rows x 40 columns]"
      ]
     },
     "execution_count": 18,
     "metadata": {},
     "output_type": "execute_result"
    }
   ],
   "source": [
    "bf2013result = model_results[model_results.AFTER2013==0]\n",
    "bf2013result.head()\n",
    "af2013result = model_results[model_results.AFTER2013==1]\n",
    "af2013result.head()"
   ]
  },
  {
   "cell_type": "code",
   "execution_count": 8,
   "metadata": {},
   "outputs": [
    {
     "data": {
      "text/plain": [
       "['Unnamed: 0',\n",
       " 'X',\n",
       " 'LOCATION_IN_OUT_CODE',\n",
       " 'OBSERVED_DURATION_MINUTES',\n",
       " 'STOP_DURATION_MINUTES',\n",
       " 'HOUR',\n",
       " 'MIN',\n",
       " 'YEAR2',\n",
       " 'SUSPECT_ARRESTED_FLAG',\n",
       " 'SUMMONS_ISSUED_FLAG',\n",
       " 'FRISKED_FLAG',\n",
       " 'SEARCHED_FLAG',\n",
       " 'OTHER_CONTRABAND_FLAG',\n",
       " 'CIRCUMSTANCES_WEAPON',\n",
       " 'SUSPECTS_ACTIONS_DRUG_TRANSACTIONS_FLAG',\n",
       " 'BACKGROUND_CIRCUMSTANCES_VIOLENT_CRIME_FLAG',\n",
       " 'SUSPECT_RACE_DESCRIPTION',\n",
       " 'SUSPECT_REPORTED_AGE',\n",
       " 'CIRCUMSTANCES_SURVEILLANCE',\n",
       " 'SUSPECT_HEIGHT',\n",
       " 'SUSPECT_SEX',\n",
       " 'SUSPECT_BODY_BUILD_TYPE',\n",
       " 'STOP_LOCATION_PRECINCT',\n",
       " 'STOP_LOCATION_X',\n",
       " 'STOP_LOCATION_Y',\n",
       " 'CRIME_DESCRIPTION_SPECIFIC',\n",
       " 'CRIME_DESCRIPTION_GENERAL',\n",
       " 'KNIFE_CUTTER_FLAG',\n",
       " 'OTHER_WEAPON_FLAG',\n",
       " 'FIREARM_FLAG',\n",
       " 'PHYSICAL_FORCE_WEAPON_IMPACT_FLAG',\n",
       " 'PHYSICAL_FORCE_HANDCUFF_SUSPECT_FLAG',\n",
       " 'PHYSICAL_FORCE_DRAW_POINT_FIREARM_FLAG',\n",
       " 'PHYSICAL_FORCE_OTHER_FLAG',\n",
       " 'WEAPON',\n",
       " 'STOP_LOCATION_BOROUGH',\n",
       " 'PERC_BLACK_BOR',\n",
       " 'AFTER2013',\n",
       " 'predicted',\n",
       " 'predicted_with_year']"
      ]
     },
     "execution_count": 8,
     "metadata": {},
     "output_type": "execute_result"
    }
   ],
   "source": [
    "list(model_results)"
   ]
  },
  {
   "cell_type": "code",
   "execution_count": 9,
   "metadata": {},
   "outputs": [
    {
     "data": {
      "text/plain": [
       "<matplotlib.axes._subplots.AxesSubplot at 0x7f3a7d754fd0>"
      ]
     },
     "execution_count": 9,
     "metadata": {},
     "output_type": "execute_result"
    },
    {
     "data": {
      "image/png": "[encoded data removed]",
      "text/plain": [
       "<Figure size 432x288 with 1 Axes>"
      ]
     },
     "metadata": {
      "needs_background": "light"
     },
     "output_type": "display_data"
    }
   ],
   "source": [
    "sn.boxplot(data=model_results, x='SUSPECT_RACE_DESCRIPTION', y='predicted')"
   ]
  },
  {
   "cell_type": "code",
   "execution_count": 22,
   "metadata": {},
   "outputs": [
    {
     "data": {
      "image/png": "[encoded data removed]",
      "text/plain": [
       "<Figure size 432x288 with 1 Axes>"
      ]
     },
     "metadata": {
      "needs_background": "light"
     },
     "output_type": "display_data"
    }
   ],
   "source": [
    "race = sn.boxplot(data=bf2013result, x='SUSPECT_RACE_DESCRIPTION', y='predicted_with_year')\n",
    "\n",
    "race.set_xticklabels(race.get_xticklabels(), rotation=40, ha=\"right\")\n",
    "race.set(xlabel='Race', ylabel='Predicted Frisked Before 2013')\n",
    "plt.tight_layout()\n",
    "plt.show()"
   ]
  },
  {
   "cell_type": "code",
   "execution_count": 23,
   "metadata": {},
   "outputs": [
    {
     "data": {
      "image/png": "[encoded data removed]",
      "text/plain": [
       "<Figure size 432x288 with 1 Axes>"
      ]
     },
     "metadata": {
      "needs_background": "light"
     },
     "output_type": "display_data"
    }
   ],
   "source": [
    "raceaf = sn.boxplot(data=af2013result, x='SUSPECT_RACE_DESCRIPTION', y='predicted_with_year')\n",
    "\n",
    "raceaf.set_xticklabels(race.get_xticklabels(), rotation=40, ha=\"right\")\n",
    "raceaf.set(xlabel='Race', ylabel='Predicted Frisked After 2013')\n",
    "plt.tight_layout()\n",
    "plt.show()"
   ]
  },
  {
   "cell_type": "code",
   "execution_count": 24,
   "metadata": {},
   "outputs": [
    {
     "data": {
      "image/png": "[encoded data removed]",
      "text/plain": [
       "<Figure size 432x288 with 1 Axes>"
      ]
     },
     "metadata": {
      "needs_background": "light"
     },
     "output_type": "display_data"
    }
   ],
   "source": [
    "racewoyr = sn.boxplot(data=bf2013result, x='SUSPECT_RACE_DESCRIPTION', y='predicted')\n",
    "\n",
    "racewoyr.set_xticklabels(race.get_xticklabels(), rotation=40, ha=\"right\")\n",
    "racewoyr.set(xlabel='Race', ylabel='Predicted Frisked Before 2013')\n",
    "plt.tight_layout()\n",
    "plt.show()"
   ]
  },
  {
   "cell_type": "code",
   "execution_count": 25,
   "metadata": {},
   "outputs": [
    {
     "data": {
      "image/png": "[encoded data removed]",
      "text/plain": [
       "<Figure size 432x288 with 1 Axes>"
      ]
     },
     "metadata": {
      "needs_background": "light"
     },
     "output_type": "display_data"
    }
   ],
   "source": [
    "racewoyraf = sn.boxplot(data=af2013result, x='SUSPECT_RACE_DESCRIPTION', y='predicted')\n",
    "\n",
    "racewoyraf.set_xticklabels(race.get_xticklabels(), rotation=40, ha=\"right\")\n",
    "racewoyraf.set(xlabel='Race', ylabel='Predicted Frisked After 2013')\n",
    "plt.tight_layout()\n",
    "plt.show()"
   ]
  },
  {
   "cell_type": "code",
   "execution_count": 78,
   "metadata": {},
   "outputs": [
    {
     "data": {
      "image/png": "[encoded data removed]",
      "text/plain": [
       "<Figure size 432x288 with 1 Axes>"
      ]
     },
     "metadata": {
      "needs_background": "light"
     },
     "output_type": "display_data"
    }
   ],
   "source": [
    "# make boxplot with Seaborn\n",
    "bplot=sn.boxplot(y='predicted', x='LOCATION_IN_OUT_CODE', \n",
    "                 data=frisked_full, \n",
    "                 width=0.5,\n",
    "                 palette=\"colorblind\")\n",
    " \n",
    "# add stripplot to boxplot with Seaborn\n",
    "bplot=sn.stripplot(y='predicted', x='LOCATION_IN_OUT_CODE', \n",
    "                   data=frisked_full, \n",
    "                   jitter=True, \n",
    "                   marker='o', \n",
    "                   alpha=0.5,\n",
    "                   color='black')"
   ]
  }
 ],
 "metadata": {
  "kernelspec": {
   "display_name": "Python 3",
   "language": "python",
   "name": "python3"
  },
  "language_info": {
   "codemirror_mode": {
    "name": "ipython",
    "version": 3
   },
   "file_extension": ".py",
   "mimetype": "text/x-python",
   "name": "python",
   "nbconvert_exporter": "python",
   "pygments_lexer": "ipython3",
   "version": "3.7.3"
  }
 },
 "nbformat": 4,
 "nbformat_minor": 2
}
